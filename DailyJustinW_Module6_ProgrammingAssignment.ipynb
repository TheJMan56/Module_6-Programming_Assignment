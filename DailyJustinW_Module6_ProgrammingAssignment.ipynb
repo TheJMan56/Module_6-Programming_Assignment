{
 "cells": [
  {
   "cell_type": "code",
   "execution_count": null,
   "id": "bb54e1ab",
   "metadata": {},
   "outputs": [],
   "source": [
    "#13.1\n",
    "from datetime import date\n",
    "\n",
    "now = date.today()\n",
    "now = str(now)\n",
    "\n",
    "\n",
    "outputFile = open(\"today.txt\", \"w\")\n",
    "outputFile.write(now)\n",
    "outputFile.close()"
   ]
  },
  {
   "cell_type": "code",
   "execution_count": null,
   "id": "fef853e9",
   "metadata": {},
   "outputs": [],
   "source": [
    "#13.2\n",
    "inputFile = open(\"today.txt\", \"r\")\n",
    "today_string = inputFile.read()\n",
    "inputFile.close()"
   ]
  },
  {
   "cell_type": "code",
   "execution_count": null,
   "id": "ab2b8999",
   "metadata": {},
   "outputs": [],
   "source": [
    "#13.3\n",
    "today_list = today_string.split(\"-\")\n",
    "print(f\"Month: {today_list[1]}\")\n",
    "print(f\"Day: {today_list[2]}\")\n",
    "print(f\"Year: {today_list[0]}\")"
   ]
  },
  {
   "cell_type": "code",
   "execution_count": null,
   "id": "809d4a1c",
   "metadata": {},
   "outputs": [],
   "source": [
    "#13.3\n",
    "from datetime import datetime\n",
    "\n",
    "fmt = \"%Y-%m-%d\"\n",
    "print(datetime.strptime(today_string, fmt))"
   ]
  },
  {
   "cell_type": "code",
   "execution_count": null,
   "id": "881acd6d",
   "metadata": {},
   "outputs": [],
   "source": [
    "#15.1\n",
    "\n",
    "import multiprocessing\n",
    "import time\n",
    "from time import sleep\n",
    "from datetime import datetime\n",
    "import random\n",
    "\n",
    "def nowRandom(num, randomSeconds):\n",
    "    sleep(randomSeconds)\n",
    "    print(f\"This is process {num}.  {randomSeconds} seconds have passed.  The time is {datetime.utcnow()}\")\n",
    "\n",
    "for num in range(1, 4):\n",
    "    randomSeconds = random.random()\n",
    "    p = multiprocessing.Process(nowRandom(num, randomSeconds))\n",
    "    p.start()"
   ]
  },
  {
   "cell_type": "code",
   "execution_count": null,
   "id": "e75926f5",
   "metadata": {},
   "outputs": [],
   "source": [
    "#15.1\n",
    "\n",
    "import multiprocessing\n",
    "import time\n",
    "from time import sleep\n",
    "from datetime import datetime\n",
    "import random\n",
    "\n",
    "def nowRandom(num, randomSeconds):\n",
    "    sleep(randomSeconds)\n",
    "    print(f\"This is process {num}.  {randomSeconds} seconds have passed.  The time is {datetime.utcnow()}\")\n",
    "\n",
    "if __name__ == \"__main__\":\n",
    "    for num in range(1, 4):\n",
    "        randomSeconds = random.random()\n",
    "        p = multiprocessing.Process(nowRandom(num, randomSeconds))\n",
    "        p.start()"
   ]
  },
  {
   "cell_type": "code",
   "execution_count": null,
   "id": "ac3893e8",
   "metadata": {},
   "outputs": [],
   "source": [
    "#Experiments\n",
    "\n",
    "import multiprocessing\n",
    "import time\n",
    "import os\n",
    "from datetime import datetime\n",
    "from time import sleep\n",
    "import random\n",
    "\n",
    "def whoAmI(what):\n",
    "    print(\"Process %s says: %s\" % (os.getpid(), what))\n",
    "def now(seconds):\n",
    "    sleep(seconds)\n",
    "    print(\"Wait\", seconds, \"seconds, time is\", datetime.utcnow())\n",
    "def whoAmINow(what, seconds):\n",
    "    sleep(seconds)\n",
    "    print(\"Process\", os.getpid(), \"says:\", what)\n",
    "    print(\"I waited\", seconds, \"seconds to start on time\", datetime.utcnow())\n",
    "def whoAmINowRandom(what, randomSeconds):\n",
    "    sleep(randomSeconds)\n",
    "    print(\"Process\", os.getpid(), \"says:\", what)\n",
    "    print(\"I waited\", randomSeconds, \"seconds to start on time\", datetime.utcnow())\n",
    "def nowRandom(num, randomSeconds):\n",
    "    sleep(randomSeconds)\n",
    "    print(f\"This is process {num}.  {randomSeconds} seconds have passed.  The time is {datetime.utcnow()}\")\n",
    "\n",
    "whoAmI(\"I'm a process\")\n",
    "now(1)\n",
    "whoAmINow(\"I'm a process\", 1)\n",
    "\n",
    "randomSeconds = random.random()\n",
    "whoaminowrandom(\"I'm a process\", randomSeconds)\n",
    "\n",
    "for num in range(1, 11):\n",
    "    randomSeconds = random.random()\n",
    "    sleep(randomSeconds)\n",
    "    print(f\"Random number {num}: {randomSeconds}\")\n",
    "\n",
    "\n",
    "for num in range(3):\n",
    "    randomSeconds = random.random()\n",
    "    p = multiprocessing.Process(whoAmINowRandom(\"I'm a process\", randomSeconds))\n",
    "    p.start()\n",
    "\n",
    "for num in range(1, 4):\n",
    "    randomSeconds = random.random()\n",
    "    p = multiprocessing.Process(nowRandom(num, randomSeconds))\n",
    "    p.start()"
   ]
  },
  {
   "cell_type": "code",
   "execution_count": null,
   "id": "d4c2bd6f",
   "metadata": {},
   "outputs": [],
   "source": [
    "#Experiments\n",
    "\n",
    "import multiprocessing\n",
    "import time\n",
    "from time import sleep\n",
    "from datetime import datetime\n",
    "import random\n",
    "\n",
    "def nowRandom(num, randomSeconds):\n",
    "    sleep(randomSeconds)\n",
    "    print(f\"This is process {num}.  {randomSeconds} seconds have passed.  The time is {datetime.utcnow()}\")\n",
    "\n",
    "for num in range(1, 101):\n",
    "    randomSeconds = random.random()\n",
    "    p = multiprocessing.Process(nowRandom(num, randomSeconds))\n",
    "    p.start()"
   ]
  },
  {
   "cell_type": "markdown",
   "id": "8bccce92",
   "metadata": {},
   "source": [
    "## There appears to be a slight delay between when Python generates the random number and when Python prints the current datetime.  It likely takes time for Python to create the random number itself, to retrieve the current datetime, and to process all of the data that is output to the user in the output string.  The time delay is incredibly brief, being much shorter than the vast majority of randomly generated time delays between 0 seconds and 1 second, so it is barely noticeable."
   ]
  },
  {
   "cell_type": "code",
   "execution_count": null,
   "id": "a9b25e17",
   "metadata": {},
   "outputs": [],
   "source": []
  }
 ],
 "metadata": {
  "kernelspec": {
   "display_name": "Python 3 (ipykernel)",
   "language": "python",
   "name": "python3"
  },
  "language_info": {
   "codemirror_mode": {
    "name": "ipython",
    "version": 3
   },
   "file_extension": ".py",
   "mimetype": "text/x-python",
   "name": "python",
   "nbconvert_exporter": "python",
   "pygments_lexer": "ipython3",
   "version": "3.9.13"
  }
 },
 "nbformat": 4,
 "nbformat_minor": 5
}
